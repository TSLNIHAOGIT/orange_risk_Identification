{
 "cells": [
  {
   "cell_type": "code",
   "execution_count": 1,
   "metadata": {
    "collapsed": true
   },
   "outputs": [],
   "source": [
    "import pandas as pd\n",
    "import os"
   ]
  },
  {
   "cell_type": "code",
   "execution_count": 2,
   "metadata": {},
   "outputs": [],
   "source": [
    "path='/Users/ozintel/Downloads/Tsl_python_progect/local_ml/kaggle_competition/kaggle_competition_datas/sweet_orange/orange_data'\n",
    "o_train=pd.read_csv(os.path.join(path,\"operation_TRAIN.csv\"),dtype=str)\n",
    "t_train=pd.read_csv(os.path.join(path,\"transaction_TRAIN.csv\"),dtype=str)\n",
    "o_test=pd.read_csv(os.path.join(path,\"operation_round1.csv\"),dtype=str)\n",
    "t_test=pd.read_csv(os.path.join(path,\"transaction_round1.csv\"),dtype=str)\n",
    "label_train=pd.read_csv(os.path.join(path,\"tag_TRAIN.csv\"),dtype=str)\n",
    "submit_example=pd.read_csv(os.path.join(path,\"sumbmit_example.csv\"),dtype=str)"
   ]
  },
  {
   "cell_type": "code",
   "execution_count": 6,
   "metadata": {},
   "outputs": [
    {
     "name": "stdout",
     "output_type": "stream",
     "text": [
      "               code1  UID\n0   001055ae5cf3ab98    6\n1   00192682a1b2051b    1\n2   0019d2e638e69a4e    1\n3   00233f4193ebd40d    1\n4   0024474690fac0b7    3\n5   0025c6cfa23e5b22    3\n6   003c1855d06c01e2    1\n7   006633d5b4b78c2b    3\n8   006f69f2fadbae52    1\n9   00729b235a680b17    2\n10  008f5d7464d4e64a    1\n11  009025695e32e109    1\n12  009b838259512124    5\n13  009e264e1a38390c    2\n14  009fa277aacbd203    1\n15  00a4a26598e78473    1\n16  00b17f3ab16bfac5    1\n17  00b454bbbcb98eea    5\n18  00bd2c495b10cdbf    1\n19  00c28bb1fac2ca0c    2\n               code2  UID\n0   00291c748905f303    3\n1   00d70f6528d856e8    4\n2   01c3a5278a480e51    4\n3   02ba375384203af9    9\n4   02bdcc454b8a69ff   10\n5   0332b304ee491817    3\n6   0333c6e5124e9902    3\n7   035334ca36cd573c   20\n8   038ab7cfbdbc5fb8    1\n9   039f3fb18df607da    3\n10  03a3ce678a454dc3    4\n11  03f2880099dccc16    6\n12  0463bacd6d8f0b5a    1\n13  048adfee70f69d66    6\n14  04a7b4e23f58a894    1\n15  04de22e56cf3e6d6    1\n16  0594895b012c5548    8\n17  05a6ced3c3c8fd57    2\n18  05c7d61c9ab73659    2\n19  0654e725f3e7ed4f    2\n"
     ]
    }
   ],
   "source": [
    "for each in ['code1', 'code2']:\n",
    "    df_t_count=t_train.groupby(each)['UID'].agg('count').reset_index()\n",
    "    print(df_t_count.head(20))"
   ]
  },
  {
   "cell_type": "code",
   "execution_count": null,
   "metadata": {},
   "outputs": [],
   "source": [
    ""
   ]
  }
 ],
 "metadata": {
  "kernelspec": {
   "display_name": "Python 2",
   "language": "python",
   "name": "python2"
  },
  "language_info": {
   "codemirror_mode": {
    "name": "ipython",
    "version": 2.0
   },
   "file_extension": ".py",
   "mimetype": "text/x-python",
   "name": "python",
   "nbconvert_exporter": "python",
   "pygments_lexer": "ipython2",
   "version": "2.7.6"
  }
 },
 "nbformat": 4,
 "nbformat_minor": 0
}